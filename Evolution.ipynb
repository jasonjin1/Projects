{
 "cells": [
  {
   "cell_type": "markdown",
   "id": "62e46db1-b37c-4774-ba71-8e5a5e71eee3",
   "metadata": {},
   "source": [
    "## Simulating Evolution through Python"
   ]
  },
  {
   "cell_type": "markdown",
   "id": "0271e9c6-376d-407f-9925-e2a7a584cece",
   "metadata": {
    "tags": []
   },
   "source": [
    "To begin work on this project I first decided to build the algorithm for evolution that would simulate a process in which a single individual survived or died over x generations.\n",
    "I wanted to satisfy certain conditions:\n",
    "\n",
    "    1. initial population should be set to 1\n",
    "    2. for each generation, each individual has a 50% chance to survive (doubling) or to die \n",
    "    3. if the species die out, I want to remove it from the total dataset when graphing\n",
    "    \n",
    "The population must have an initial start of 1 individual and I set an initial generation limit to 5 for testing purposes. For each individual in the population, it produces a random number either 0 or 1 to determine if died(O) or 1(if survived). I used the random package to generate the numbers and turned it into a list. The list was then changed so that all 0s would become -1s for easier addition. After adding all the values of the list, the population is added with the new sum, and the loop continues unless every individual dies out or 5 generations had passed. \n",
    "\n",
    "You can also change the generation number to any amount, or let it run infinite till the species die out."
   ]
  },
  {
   "cell_type": "code",
   "execution_count": 42,
   "id": "add40774-0ae6-43e8-934d-0e0aa1dc91f1",
   "metadata": {},
   "outputs": [
    {
     "name": "stdout",
     "output_type": "stream",
     "text": [
      "2\n",
      "2\n",
      "2\n",
      "4\n",
      "6\n",
      "[2, 2, 2, 4, 6]\n"
     ]
    }
   ],
   "source": [
    "import numpy as np\n",
    "import random\n",
    "\n",
    "species = []\n",
    "\n",
    "def simulation(x):\n",
    "    population = 1\n",
    "    for x in range(5):\n",
    "        if population > 0:\n",
    "            list = [random.randint(0, 1) for _ in range(population)]\n",
    "            list[:] = [-1 if x==0 else x for x in list]\n",
    "            totalgain = sum(list)\n",
    "            population = population + totalgain\n",
    "            species.append(population)\n",
    "            print(population)\n",
    "\n",
    "simulation(1)\n",
    "print(species)"
   ]
  },
  {
   "cell_type": "code",
   "execution_count": null,
   "id": "35acf959-67c8-4621-a7fb-71608f7cdc5e",
   "metadata": {},
   "outputs": [],
   "source": [
    "The code above also prints the lineage so you can see it run after each generation. "
   ]
  },
  {
   "cell_type": "markdown",
   "id": "ece03c4e-7eae-47ab-bfa7-18d2b5b606a8",
   "metadata": {},
   "source": [
    "After making the algorithm, I then wanted to graph my data. First I had to change the algorithm up a bit, adding the append functions and making it so that if the population reaches 0 during any generation, it does not get added to the evolution dataset. "
   ]
  },
  {
   "cell_type": "code",
   "execution_count": 251,
   "id": "2d7a571d-97ef-44aa-946d-b2e488a7249f",
   "metadata": {},
   "outputs": [],
   "source": [
    "species = []\n",
    "evolution = []\n",
    "\n",
    "def simulation(x):\n",
    "    Totalpop = 0\n",
    "    population = 1\n",
    "    for x in range(5):\n",
    "        if population > 0:\n",
    "            list = [random.randint(0, 1) for _ in range(population)]\n",
    "            list[:] = [-1 if x==0 else x for x in list]\n",
    "            totalgain = sum(list)\n",
    "            population = population + totalgain\n",
    "            species.append(population)\n",
    "    if population > 0:\n",
    "        evolution.append(population)\n",
    "        Totalpop = Totalpop + 1"
   ]
  },
  {
   "cell_type": "markdown",
   "id": "61a08803-80c0-4f7a-a53f-c77c6e87e59c",
   "metadata": {},
   "source": [
    "After I was satisfied with the simulation, I then ran the function 200 times with 5 generations for each population and first plotted the total number of survived populations as a length of the list evolution. "
   ]
  },
  {
   "cell_type": "code",
   "execution_count": 253,
   "id": "c4122c32-2894-4f6e-92d5-ffbc1af3928e",
   "metadata": {},
   "outputs": [
    {
     "data": {
      "image/png": "[encoded data removed]",
      "text/plain": [
       "<Figure size 432x288 with 1 Axes>"
      ]
     },
     "metadata": {
      "needs_background": "light"
     },
     "output_type": "display_data"
    }
   ],
   "source": [
    "import matplotlib.pyplot\n",
    "\n",
    "evolution = []\n",
    "\n",
    "for x in range(200):\n",
    "    simulation(1)\n",
    "    \n",
    "matplotlib.pyplot.hist(len(evolution))\n",
    "matplotlib.pyplot.title('Total populations survived after 5 generations')\n",
    "matplotlib.pyplot.show()"
   ]
  },
  {
   "cell_type": "markdown",
   "id": "e36ba6b5-7a1e-48b4-ab22-4a0645aca371",
   "metadata": {},
   "source": [
    "What I noticed from this plot is that at 5 generations, around 1/4 of the population survived. \n",
    "    \n",
    "So for a range of 200, it's almost always that around ~50 populations survive and so on. \n",
    "\n",
    "Survival rate at 5 generations = Total Number of Populations / 4."
   ]
  },
  {
   "cell_type": "markdown",
   "id": "83eac04b-ee04-420a-8f40-4b6ee07594b6",
   "metadata": {},
   "source": [
    "Then I plotted the second graph with the number of individuals survived for each surviving population in a histogram again at 5 generations. "
   ]
  },
  {
   "cell_type": "code",
   "execution_count": 254,
   "id": "ad5e85ed-2fd7-4f50-aa48-272722b1ab96",
   "metadata": {},
   "outputs": [
    {
     "data": {
      "image/png": "[encoded data removed]",
      "text/plain": [
       "<Figure size 432x288 with 1 Axes>"
      ]
     },
     "metadata": {
      "needs_background": "light"
     },
     "output_type": "display_data"
    },
    {
     "name": "stdout",
     "output_type": "stream",
     "text": [
      "The mean is: \n",
      "4.533333333333333\n",
      "The median is: \n",
      "4\n",
      "The st.dev is: \n",
      "2.3510152545810348\n"
     ]
    }
   ],
   "source": [
    "evolution = []\n",
    "\n",
    "import pandas as pd\n",
    "import statistics\n",
    "import matplotlib.pyplot\n",
    "\n",
    "for x in range(200):\n",
    "    simulation(1)\n",
    "\n",
    "\n",
    "matplotlib.pyplot.hist(evolution)\n",
    "matplotlib.pyplot.title('Average number of survivors per population')\n",
    "matplotlib.pyplot.xlabel('Survivor count')\n",
    "matplotlib.pyplot.ylabel('Number of Populations')\n",
    "matplotlib.pyplot.show()\n",
    "\n",
    "\n",
    "print('The mean is: ')\n",
    "print(statistics.mean(evolution))\n",
    "print('The median is: ')\n",
    "print(statistics.median(evolution))"
   ]
  },
  {
   "cell_type": "markdown",
   "id": "75108de1-e748-4182-9b78-c030a3359ca8",
   "metadata": {},
   "source": [
    "I added some descriptive statistics of the simulations and discovered a few insights. First the mean number of survivors per population (assuming 5 generations) varies but is often around ~4. The median is a constant 4. The graph usually follows a regular right skewed curve which is to be expected as most of the populations do not reach past 2-4 survivors after 5 generations. \n",
    "\n",
    "Lastly, I wanted to figure out the average total number of survivors of 200 simulations to see if it there are any consistencies in the amount survived. "
   ]
  },
  {
   "cell_type": "code",
   "execution_count": 261,
   "id": "32ac8de0-f9b3-4a85-9d26-c9995783b122",
   "metadata": {},
   "outputs": [
    {
     "data": {
      "image/png": "[encoded data removed]",
      "text/plain": [
       "<Figure size 432x288 with 1 Axes>"
      ]
     },
     "metadata": {
      "needs_background": "light"
     },
     "output_type": "display_data"
    },
    {
     "name": "stdout",
     "output_type": "stream",
     "text": [
      "The mean is: \n",
      "200.39\n",
      "The median is: \n",
      "198.0\n",
      "The st.dev is: \n",
      "47.07726889095368\n"
     ]
    }
   ],
   "source": [
    "totalsurvivors = []\n",
    "\n",
    "for x in range(200):\n",
    "    evolution = []\n",
    "    for x in range(200):\n",
    "        simulation(1)\n",
    "        survivors = sum(evolution)\n",
    "    totalsurvivors.append(survivors)\n",
    "\n",
    "matplotlib.pyplot.hist(totalsurvivors)\n",
    "matplotlib.pyplot.title('Average number of total survivors of 200 simulations')\n",
    "matplotlib.pyplot.xlabel('Survivor count')\n",
    "matplotlib.pyplot.ylabel('Number of Populations')\n",
    "matplotlib.pyplot.show()\n",
    "\n",
    "print('The mean is: ')\n",
    "print(statistics.mean(totalsurvivors))\n",
    "print('The median is: ')\n",
    "print(statistics.median(totalsurvivors))\n",
    "print('The st.dev is: ')\n",
    "print(statistics.stdev(totalsurvivors))"
   ]
  },
  {
   "cell_type": "markdown",
   "id": "f97ee13e-74e7-43b4-acde-d83e99a8a407",
   "metadata": {},
   "source": [
    "This graph was actually quite interesting as it almost follows a binomial distribution with the peak at 200 survivors after 200 simulations. The mean and median is also around ~200. This actually makes quite a lot of sense as:\n",
    "\n",
    "1. Survival rate at 5 generations = Total Number of Populations / 4.\n",
    "2. For 200 generations we should see a survival rate of 50 populations. \n",
    "3. From the earlier histogram a mean number of 4 individuals survived per population, thus, we should expect to see 50(populations) * 4(individuals) which is ~200 total survivors. \n",
    "\n",
    "So the last question I wanted to determine is whether or not this only works for 5 generations or if lowering and upping the generation count would change these distributions. \n",
    "\n",
    "To do so, I rewrote the algorithm a bit to allow a user to input any number of generations before printing out the same statistics as before. Running the code below will first ask for an input for amount of generations before printing out the lineage. "
   ]
  },
  {
   "cell_type": "code",
   "execution_count": 54,
   "id": "796bfdf1-9716-4f91-9099-5f5c8a1a5f4c",
   "metadata": {},
   "outputs": [
    {
     "name": "stdin",
     "output_type": "stream",
     "text": [
      " 12\n"
     ]
    },
    {
     "name": "stdout",
     "output_type": "stream",
     "text": [
      "[2, 4, 8, 8, 8, 6, 6, 2, 4, 2, 2, 4]\n",
      "[4]\n"
     ]
    }
   ],
   "source": [
    "species = []\n",
    "evolution = []\n",
    "\n",
    "def simulation(x):\n",
    "    Totalpop = 0\n",
    "    population = 1\n",
    "    for x in range(int(input())):\n",
    "        if population > 0:\n",
    "            list = [random.randint(0, 1) for _ in range(population)]\n",
    "            list[:] = [-1 if x==0 else x for x in list]\n",
    "            totalgain = sum(list)\n",
    "            population = population + totalgain\n",
    "            species.append(population)\n",
    "    if population > 0:\n",
    "        evolution.append(population)\n",
    "        Totalpop = Totalpop + 1\n",
    "        \n",
    "simulation(1)\n",
    "print(species)\n",
    "print(evolution)"
   ]
  },
  {
   "cell_type": "markdown",
   "id": "7f62c21d-57f1-4b84-add7-6960fd19d9ed",
   "metadata": {},
   "source": [
    "Then, all thats left to do is graph it again, trying different generations each time to see if there can be a formula that can be applied to all numbers of generations. I had to manually change the generation count each time as otherwise input would cause the user to input a generation number x times for each population we ran (in this case hundreds). "
   ]
  },
  {
   "cell_type": "code",
   "execution_count": 258,
   "id": "c0e0f45b-3832-46ab-be67-860fda9c9df1",
   "metadata": {},
   "outputs": [
    {
     "data": {
      "image/png": "[encoded data removed]",
      "text/plain": [
       "<Figure size 432x288 with 1 Axes>"
      ]
     },
     "metadata": {
      "needs_background": "light"
     },
     "output_type": "display_data"
    },
    {
     "name": "stdout",
     "output_type": "stream",
     "text": [
      "The mean is: \n",
      "194.00833333333333\n",
      "The median is: \n",
      "198.0\n",
      "The st.dev is: \n",
      "71.30428588447624\n"
     ]
    }
   ],
   "source": [
    "species = []\n",
    "evolution = []\n",
    "\n",
    "def simulation(x):\n",
    "    Totalpop = 0\n",
    "    population = 1\n",
    "    for x in range(10):\n",
    "        if population > 0:\n",
    "            list = [random.randint(0, 1) for _ in range(population)]\n",
    "            list[:] = [-1 if x==0 else x for x in list]\n",
    "            totalgain = sum(list)\n",
    "            population = population + totalgain\n",
    "            species.append(population)\n",
    "    if population > 0:\n",
    "        evolution.append(population)\n",
    "        Totalpop = Totalpop + 1\n",
    "        \n",
    "\n",
    "for x in range(10):\n",
    "    evolution = []\n",
    "    for x in range(200):\n",
    "        simulation(1)\n",
    "        survivors = sum(evolution)\n",
    "    totalsurvivors.append(survivors)\n",
    "\n",
    "matplotlib.pyplot.hist(totalsurvivors)\n",
    "matplotlib.pyplot.title('Average number of total survivors of 200 simulations at x populations')\n",
    "matplotlib.pyplot.xlabel('Survivor count')\n",
    "matplotlib.pyplot.ylabel('Number of Populations')\n",
    "matplotlib.pyplot.show()\n",
    "\n",
    "print('The mean is: ')\n",
    "print(statistics.mean(totalsurvivors))\n",
    "print('The median is: ')\n",
    "print(statistics.median(totalsurvivors))\n",
    "print('The st.dev is: ')\n",
    "print(statistics.stdev(totalsurvivors))"
   ]
  },
  {
   "cell_type": "markdown",
   "id": "fd349560-384f-47e4-abbc-c3184e07a72f",
   "metadata": {},
   "source": [
    "What is quite surprising is that no matter what the generation count is set to, it will always have a mean number of survivors equal to the amount of populations. This had me confused a little because the survival rate at 5 generations should not be the same survival rate at 10, 20, or x generations. \n",
    "\n",
    "So to figure out what is going on, I created one final algorithm which by manually changing the generation amount, you can see both the survival rate and average number of individuals survived. "
   ]
  },
  {
   "cell_type": "code",
   "execution_count": 279,
   "id": "6cc2596f-d3ab-4480-8bd6-8d8e694bd206",
   "metadata": {},
   "outputs": [
    {
     "data": {
      "image/png": "[encoded data removed]",
      "text/plain": [
       "<Figure size 432x288 with 1 Axes>"
      ]
     },
     "metadata": {
      "needs_background": "light"
     },
     "output_type": "display_data"
    },
    {
     "name": "stdout",
     "output_type": "stream",
     "text": [
      "The survival rate for x generations is: \n",
      "2.2988505747126435\n"
     ]
    },
    {
     "data": {
      "image/png": "[encoded data removed]",
      "text/plain": [
       "<Figure size 432x288 with 1 Axes>"
      ]
     },
     "metadata": {
      "needs_background": "light"
     },
     "output_type": "display_data"
    },
    {
     "name": "stdout",
     "output_type": "stream",
     "text": [
      "The mean total number of survivors is: \n",
      "2.7126436781609193\n",
      "The median total number of survivors is: \n",
      "2\n"
     ]
    }
   ],
   "source": [
    "species = []\n",
    "evolution = []\n",
    "\n",
    "def simulation(x):\n",
    "    Totalpop = 0\n",
    "    population = 1\n",
    "    for x in range(2):\n",
    "        if population > 0:\n",
    "            list = [random.randint(0, 1) for _ in range(population)]\n",
    "            list[:] = [-1 if x==0 else x for x in list]\n",
    "            totalgain = sum(list)\n",
    "            population = population + totalgain\n",
    "            species.append(population)\n",
    "    if population > 0:\n",
    "        evolution.append(population)\n",
    "        Totalpop = Totalpop + 1\n",
    "        \n",
    "import matplotlib.pyplot\n",
    "\n",
    "evolution = []\n",
    "\n",
    "for x in range(200):\n",
    "    simulation(1)\n",
    "    \n",
    "matplotlib.pyplot.hist(len(evolution))\n",
    "matplotlib.pyplot.title('Total populations survived after x generations')\n",
    "matplotlib.pyplot.show()\n",
    "print('The survival rate for x generations is: ')\n",
    "print(200 / len(evolution))\n",
    "\n",
    "matplotlib.pyplot.hist(evolution)\n",
    "matplotlib.pyplot.title('Total number of survivors after x generations')\n",
    "matplotlib.pyplot.show()\n",
    "\n",
    "print('The mean total number of survivors is: ')\n",
    "print(statistics.mean(evolution))\n",
    "print('The median total number of survivors is: ')\n",
    "print(statistics.median(evolution))"
   ]
  },
  {
   "cell_type": "markdown",
   "id": "4c8764ac-3799-4171-9312-0e410c71444b",
   "metadata": {},
   "source": [
    "Finally through this algorithm, I could see why the total number of surviving individuals is always equal to the amount of populations we started with. \n",
    "\n",
    "The survival rate and number of survivors have an inverse relationship. As the survival rate increases, the number of survivors decrease. We can actually test this by changing the amount of generations in the previous code and examining the survival rate and number of survivors. For example, with 2 generations we get: \n",
    "\n",
    "1. Average survival rate at 2 generations = Total number of populations / 2.5\n",
    "2. At 2 generations, the mean individuals survived is 2.5\n",
    "3. So when we do survival rate * mean number of individuals for 2 generations we see:\n",
    "    \n",
    "    200 / 2.5 (2.5) = 200\n",
    "    \n",
    "The same follows for any x number of generations, the survival rate and mean number of individuals survived are equal to each other. Thus for any amount of generations, the total number of survivors is simply equal to the number of populations we initially started with. So for 300 populations, we should expect 300 survivors and etc. \n",
    "\n",
    "So our final formula is:\n",
    "    Total number of survived individuals = Total amount of populations we started with \n",
    "    \n",
    "Final notes: I had a lot of fun with this project and I know some of my code can be optimized and or cleaned to display everything better. Please let me know if there are any wrong statements I have made from my analysis and any comments you may have. "
   ]
  },
  {
   "cell_type": "code",
   "execution_count": 280,
   "id": "6361d946-476b-4171-bb49-c86f8861e5bb",
   "metadata": {},
   "outputs": [
    {
     "data": {
      "text/plain": [
       "'C:\\\\Users\\\\jason'"
      ]
     },
     "execution_count": 280,
     "metadata": {},
     "output_type": "execute_result"
    }
   ],
   "source": [
    "pwd"
   ]
  },
  {
   "cell_type": "code",
   "execution_count": null,
   "id": "1341158b-b111-499a-9d6c-9ca69fa155f5",
   "metadata": {},
   "outputs": [],
   "source": []
  }
 ],
 "metadata": {
  "kernelspec": {
   "display_name": "Python 3 (ipykernel)",
   "language": "python",
   "name": "python3"
  },
  "language_info": {
   "codemirror_mode": {
    "name": "ipython",
    "version": 3
   },
   "file_extension": ".py",
   "mimetype": "text/x-python",
   "name": "python",
   "nbconvert_exporter": "python",
   "pygments_lexer": "ipython3",
   "version": "3.9.7"
  }
 },
 "nbformat": 4,
 "nbformat_minor": 5
}
